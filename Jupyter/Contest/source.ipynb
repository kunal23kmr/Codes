{
 "cells": [
  {
   "attachments": {},
   "cell_type": "markdown",
   "id": "c358c056",
   "metadata": {},
   "source": [
    "Making the models"
   ]
  },
  {
   "cell_type": "code",
   "execution_count": 1,
   "id": "2a67ee8d",
   "metadata": {},
   "outputs": [],
   "source": [
    "import pandas as pd\n",
    "import numpy as np\n",
    "import vaex\n",
    "from sklearn.ensemble import RandomForestClassifier\n",
    "from sklearn.metrics import accuracy_score\n",
    "# from sklearn.impute import SimpleImputer\n",
    "from sklearn.preprocessing import LabelEncoder\n",
    "import joblib"
   ]
  },
  {
   "cell_type": "code",
   "execution_count": 2,
   "id": "0b914546",
   "metadata": {},
   "outputs": [],
   "source": [
    "data =pd.read_csv('Doceree-HCP_Train.csv', encoding='latin-1')\n",
    "test =pd.read_csv('Doceree-HCP-Test.csv', encoding='latin-1')"
   ]
  },
  {
   "cell_type": "code",
   "execution_count": 3,
   "id": "f485943e",
   "metadata": {},
   "outputs": [],
   "source": [
    "# Assuming 'data' is pandas DataFrame containing string columns\n",
    "label_encoder = LabelEncoder()\n",
    "\n",
    "for column in data.columns:\n",
    "    if data[column].dtype == 'object':\n",
    "        # Encode the string data to numerical values\n",
    "        data[column] = label_encoder.fit_transform(data[column])\n",
    "\n",
    "# The Same thing for test_dataset\n",
    "for column in test.columns:\n",
    "    if test[column].dtype == 'object':\n",
    "        test[column] = label_encoder.fit_transform(test[column])"
   ]
  },
  {
   "cell_type": "code",
   "execution_count": 4,
   "id": "aa1b697a",
   "metadata": {},
   "outputs": [],
   "source": [
    "vaex_data=vaex.from_pandas(data)\n",
    "vaex_test=vaex.from_pandas(test)"
   ]
  },
  {
   "cell_type": "code",
   "execution_count": 5,
   "id": "5784611a",
   "metadata": {},
   "outputs": [],
   "source": [
    "vaex_data.export_hdf5('Doceree-HCP_Train.hdf5')\n",
    "vaex_test.export_hdf5('Doceree-HCP-Test.hdf5')"
   ]
  },
  {
   "cell_type": "code",
   "execution_count": 6,
   "id": "64f8df55",
   "metadata": {},
   "outputs": [],
   "source": [
    "# # imputing\n",
    "# imputer = SimpleImputer(strategy='mean')\n",
    "# # txo_imputer = SimpleImputer(strategy='mean')"
   ]
  },
  {
   "cell_type": "code",
   "execution_count": 7,
   "id": "24aead66",
   "metadata": {},
   "outputs": [],
   "source": [
    "vaex_df=vaex.open('Doceree-HCP_Train.hdf5')\n",
    "# Iterate over each column in the DataFrame\n",
    "for column in vaex_df.columns:\n",
    "    # Fill missing values with 0 for the current column\n",
    "    vaex_df[column].fillna(0, inplace=True)"
   ]
  },
  {
   "cell_type": "code",
   "execution_count": 8,
   "id": "3c560a5c",
   "metadata": {},
   "outputs": [
    {
     "name": "stderr",
     "output_type": "stream",
     "text": [
      "c:\\Users\\kunal\\miniconda3\\lib\\site-packages\\vaex\\ml\\__init__.py:28: UserWarning: Make sure the DataFrame is shuffled\n",
      "  warnings.warn('Make sure the DataFrame is shuffled')\n"
     ]
    }
   ],
   "source": [
    "vaex_df = vaex_df.shuffle(random_state=42)  # Shuffle the DataFrame with a fixed random state\n",
    "df_train,df_test = vaex_df.ml.train_test_split(test_size=0.2)  # Split into train and test sets\n",
    "\n",
    "# df_train.shape"
   ]
  },
  {
   "cell_type": "code",
   "execution_count": 9,
   "id": "10b9df61",
   "metadata": {},
   "outputs": [],
   "source": [
    "features=['DEVICETYPE', 'PLATFORM_ID', 'BIDREQUESTIP', 'USERPLATFORMUID', 'USERCITY', 'USERZIPCODE', 'USERAGENT', 'PLATFORMTYPE', 'CHANNELTYPE', 'URL', 'KEYWORDS']\n",
    "target='IS_HCP'\n",
    "txo_features = ['DEVICETYPE', 'PLATFORM_ID', 'BIDREQUESTIP', 'USERPLATFORMUID', 'USERCITY', 'USERZIPCODE', 'USERAGENT', 'PLATFORMTYPE', 'CHANNELTYPE', 'URL', 'KEYWORDS']\n",
    "txo_target='TAXONOMY'"
   ]
  },
  {
   "cell_type": "code",
   "execution_count": 10,
   "id": "53bf3ab6",
   "metadata": {},
   "outputs": [],
   "source": [
    "# Create the RandomForestRegressor model\n",
    "model = RandomForestClassifier(n_estimators=100)"
   ]
  },
  {
   "cell_type": "code",
   "execution_count": 11,
   "id": "a38771eb",
   "metadata": {},
   "outputs": [],
   "source": [
    "# Fill missing values with a specific value (e.g., 0)\n",
    "df_train = df_train.fillna(0)\n",
    "df_test = df_test.fillna(0)"
   ]
  },
  {
   "cell_type": "code",
   "execution_count": 26,
   "id": "6e9ac5d2",
   "metadata": {},
   "outputs": [
    {
     "name": "stdout",
     "output_type": "stream",
     "text": [
      "#       ID      DEVICETYPE    PLATFORM_ID    BIDREQUESTIP    USERPLATFORMUID    USERCITY    USERZIPCODE    USERAGENT    PLATFORMTYPE    CHANNELTYPE    URL    KEYWORDS    TAXONOMY    IS_HCP\n",
      "0       13340   0             7              12917           6723               3888        22560.0        2863         3               0              1933   2007        207         0.0\n",
      "1       55559   0             2              4994            34235              2718        10010.0        2852         3               0              817    575         207         0.0\n",
      "2       82193   2             2              11467           1127               642         17202.0        2210         3               0              4174   404         149         1.0\n",
      "3       18089   1             2              1490            27233              24          44307.0        3965         3               0              1074   80          149         1.0\n",
      "4       68921   1             2              24535           15118              3104        15221.0        36           3               0              850    407         207         0.0\n",
      "...     ...     ...           ...            ...             ...                ...         ...            ...          ...             ...            ...    ...         ...         ...\n",
      "91,145  77821   0             2              30945           13434              2249        19011117.0     2974         3               0              4368   384         18          1.0\n",
      "91,146  111269  0             2              426             18056              464         11204.0        2462         3               0              850    407         207         0.0\n",
      "91,147  104695  0             7              20997           26821              2079        89141.0        2622         3               0              1449   2106        207         0.0\n",
      "91,148  1861    2             2              16521           52907              3846        33573.0        2190         3               0              4863   151         43          1.0\n",
      "91,149  16796   0             2              29313           38804              3817        44136.0        2672         3               0              4851   528         207         0.0\n"
     ]
    }
   ],
   "source": [
    "print((df_train))"
   ]
  },
  {
   "cell_type": "code",
   "execution_count": 36,
   "id": "ed3c905b",
   "metadata": {},
   "outputs": [
    {
     "name": "stdout",
     "output_type": "stream",
     "text": [
      "(91150, 11) (91150,)\n"
     ]
    }
   ],
   "source": [
    "# Extract the features and target arrays from the DataFrames\n",
    "X_train = df_train[features].values\n",
    "# X_train.shapes\n",
    "# print(X_train)\n",
    "y_train = df_train[target].values\n",
    "y_train = y_train.ravel()\n",
    "txo_train = y_train #to use in futuer\n",
    "\n",
    "X_test = df_test[features].values\n",
    "y_test = df_test[target].values.astype(np.int64)\n",
    "y_test = y_test.ravel()\n",
    "txo_test = y_test #to use in futuer\n",
    "\n",
    "print(X_train.shape,y_train.shape)"
   ]
  },
  {
   "cell_type": "code",
   "execution_count": 37,
   "id": "b4e1eddb",
   "metadata": {},
   "outputs": [
    {
     "name": "stdout",
     "output_type": "stream",
     "text": [
      "[1 1 0 ... 0 1 0]\n"
     ]
    }
   ],
   "source": [
    "print(y_test)"
   ]
  },
  {
   "cell_type": "code",
   "execution_count": 13,
   "id": "05e36131",
   "metadata": {},
   "outputs": [],
   "source": [
    "# # impute NaN values\n",
    "# X_train[np.isnan(X_train)] = 0\n",
    "\n",
    "# y_train = pd.Series(y_train)\n",
    "# # Fill missing values in y_train with 0\n",
    "# y_train = y_train.fillna(0)\n",
    "\n",
    "# print(X_train.shape , y_train.shape)"
   ]
  },
  {
   "cell_type": "code",
   "execution_count": 38,
   "id": "f1d6b306",
   "metadata": {},
   "outputs": [
    {
     "data": {
      "text/html": [
       "<style>#sk-container-id-2 {color: black;background-color: white;}#sk-container-id-2 pre{padding: 0;}#sk-container-id-2 div.sk-toggleable {background-color: white;}#sk-container-id-2 label.sk-toggleable__label {cursor: pointer;display: block;width: 100%;margin-bottom: 0;padding: 0.3em;box-sizing: border-box;text-align: center;}#sk-container-id-2 label.sk-toggleable__label-arrow:before {content: \"▸\";float: left;margin-right: 0.25em;color: #696969;}#sk-container-id-2 label.sk-toggleable__label-arrow:hover:before {color: black;}#sk-container-id-2 div.sk-estimator:hover label.sk-toggleable__label-arrow:before {color: black;}#sk-container-id-2 div.sk-toggleable__content {max-height: 0;max-width: 0;overflow: hidden;text-align: left;background-color: #f0f8ff;}#sk-container-id-2 div.sk-toggleable__content pre {margin: 0.2em;color: black;border-radius: 0.25em;background-color: #f0f8ff;}#sk-container-id-2 input.sk-toggleable__control:checked~div.sk-toggleable__content {max-height: 200px;max-width: 100%;overflow: auto;}#sk-container-id-2 input.sk-toggleable__control:checked~label.sk-toggleable__label-arrow:before {content: \"▾\";}#sk-container-id-2 div.sk-estimator input.sk-toggleable__control:checked~label.sk-toggleable__label {background-color: #d4ebff;}#sk-container-id-2 div.sk-label input.sk-toggleable__control:checked~label.sk-toggleable__label {background-color: #d4ebff;}#sk-container-id-2 input.sk-hidden--visually {border: 0;clip: rect(1px 1px 1px 1px);clip: rect(1px, 1px, 1px, 1px);height: 1px;margin: -1px;overflow: hidden;padding: 0;position: absolute;width: 1px;}#sk-container-id-2 div.sk-estimator {font-family: monospace;background-color: #f0f8ff;border: 1px dotted black;border-radius: 0.25em;box-sizing: border-box;margin-bottom: 0.5em;}#sk-container-id-2 div.sk-estimator:hover {background-color: #d4ebff;}#sk-container-id-2 div.sk-parallel-item::after {content: \"\";width: 100%;border-bottom: 1px solid gray;flex-grow: 1;}#sk-container-id-2 div.sk-label:hover label.sk-toggleable__label {background-color: #d4ebff;}#sk-container-id-2 div.sk-serial::before {content: \"\";position: absolute;border-left: 1px solid gray;box-sizing: border-box;top: 0;bottom: 0;left: 50%;z-index: 0;}#sk-container-id-2 div.sk-serial {display: flex;flex-direction: column;align-items: center;background-color: white;padding-right: 0.2em;padding-left: 0.2em;position: relative;}#sk-container-id-2 div.sk-item {position: relative;z-index: 1;}#sk-container-id-2 div.sk-parallel {display: flex;align-items: stretch;justify-content: center;background-color: white;position: relative;}#sk-container-id-2 div.sk-item::before, #sk-container-id-2 div.sk-parallel-item::before {content: \"\";position: absolute;border-left: 1px solid gray;box-sizing: border-box;top: 0;bottom: 0;left: 50%;z-index: -1;}#sk-container-id-2 div.sk-parallel-item {display: flex;flex-direction: column;z-index: 1;position: relative;background-color: white;}#sk-container-id-2 div.sk-parallel-item:first-child::after {align-self: flex-end;width: 50%;}#sk-container-id-2 div.sk-parallel-item:last-child::after {align-self: flex-start;width: 50%;}#sk-container-id-2 div.sk-parallel-item:only-child::after {width: 0;}#sk-container-id-2 div.sk-dashed-wrapped {border: 1px dashed gray;margin: 0 0.4em 0.5em 0.4em;box-sizing: border-box;padding-bottom: 0.4em;background-color: white;}#sk-container-id-2 div.sk-label label {font-family: monospace;font-weight: bold;display: inline-block;line-height: 1.2em;}#sk-container-id-2 div.sk-label-container {text-align: center;}#sk-container-id-2 div.sk-container {/* jupyter's `normalize.less` sets `[hidden] { display: none; }` but bootstrap.min.css set `[hidden] { display: none !important; }` so we also need the `!important` here to be able to override the default hidden behavior on the sphinx rendered scikit-learn.org. See: https://github.com/scikit-learn/scikit-learn/issues/21755 */display: inline-block !important;position: relative;}#sk-container-id-2 div.sk-text-repr-fallback {display: none;}</style><div id=\"sk-container-id-2\" class=\"sk-top-container\"><div class=\"sk-text-repr-fallback\"><pre>RandomForestClassifier()</pre><b>In a Jupyter environment, please rerun this cell to show the HTML representation or trust the notebook. <br />On GitHub, the HTML representation is unable to render, please try loading this page with nbviewer.org.</b></div><div class=\"sk-container\" hidden><div class=\"sk-item\"><div class=\"sk-estimator sk-toggleable\"><input class=\"sk-toggleable__control sk-hidden--visually\" id=\"sk-estimator-id-2\" type=\"checkbox\" checked><label for=\"sk-estimator-id-2\" class=\"sk-toggleable__label sk-toggleable__label-arrow\">RandomForestClassifier</label><div class=\"sk-toggleable__content\"><pre>RandomForestClassifier()</pre></div></div></div></div></div>"
      ],
      "text/plain": [
       "RandomForestClassifier()"
      ]
     },
     "execution_count": 38,
     "metadata": {},
     "output_type": "execute_result"
    }
   ],
   "source": [
    "# Fit the model\n",
    "model.fit(X_train, y_train)"
   ]
  },
  {
   "cell_type": "code",
   "execution_count": 39,
   "id": "31f13f6e",
   "metadata": {},
   "outputs": [
    {
     "name": "stdout",
     "output_type": "stream",
     "text": [
      "IS_HCP Model Evaluation:\n",
      "Accuracy is : 0.9920568745337254\n",
      "(91150, 11) (91150,)\n"
     ]
    }
   ],
   "source": [
    "# making predictions\n",
    "# X_test[np.isnan(X_test)] = 0\n",
    "predictions = model.predict(X_test)\n",
    "# print(predictions)\n",
    "\n",
    "accuracy = accuracy_score(y_test,predictions)\n",
    "# Print the values\n",
    "print(\"IS_HCP Model Evaluation:\")\n",
    "print(\"Accuracy is :\", accuracy)\n",
    "print(X_train.shape,y_train.shape)"
   ]
  },
  {
   "cell_type": "code",
   "execution_count": 43,
   "id": "23e6222e",
   "metadata": {},
   "outputs": [
    {
     "name": "stdout",
     "output_type": "stream",
     "text": [
      "['Abortion|Anxiety Disorders|Apnea|False|Trauma|Mental Health|Psychiatry|Urology|Cardiology|Medicine|Health|Bipolar and Related Disorders|General|Clinical|Myocardial Infarction|Conduct Disorders'\n",
      " 'Abscess|Critical Care|Drainage|Pathology|Gastroenterology|Rheumatology|Medicine|Anesthesia|Emergency Medicine|General|Clinical|Trauma|Oncology|Orthopedics|Physical Medicine & Rehabilitation|Dentistry|Small|False|Oral|Preventive|Neurological Surgery|Neurology|Shock|Intravenous|Cardiac|Urogenital|Dermatology|Nuclear Medicine|Surgery|Health|Specialties|Rehabilitation|Diagnosis|Infected|Cardiology|Resuscitation|Surgical|Anesthesiology|Pediatrics|General Practice|Transplantation|Congenital|Technology|Large|Ophthalmology|Preventive Medicine|Psychiatry|Debridement|Adrenal Hyperplasia|Otolaryngology|Urology'\n",
      " 'Abortion|Anxiety Disorders|Apnea|False|Trauma|Mental Health|Psychiatry|Urology|Cardiology|Medicine|Health|Bipolar and Related Disorders|General|Clinical|Myocardial Infarction|Conduct Disorders'\n",
      " ...\n",
      " 'Abortion|Anxiety Disorders|Apnea|False|Trauma|Mental Health|Psychiatry|Urology|Cardiology|Medicine|Health|Bipolar and Related Disorders|General|Clinical|Myocardial Infarction|Conduct Disorders'\n",
      " 'Abscess|Critical Care|Drainage|Pathology|Gastroenterology|Rheumatology|Medicine|Anesthesia|Emergency Medicine|General|Clinical|Trauma|Oncology|Orthopedics|Physical Medicine & Rehabilitation|Dentistry|Small|False|Oral|Preventive|Neurological Surgery|Neurology|Shock|Intravenous|Cardiac|Urogenital|Dermatology|Nuclear Medicine|Surgery|Health|Specialties|Rehabilitation|Diagnosis|Infected|Cardiology|Resuscitation|Surgical|Anesthesiology|Pediatrics|General Practice|Transplantation|Congenital|Technology|Large|Ophthalmology|Preventive Medicine|Psychiatry|Debridement|Adrenal Hyperplasia|Otolaryngology|Urology'\n",
      " 'Abortion|Anxiety Disorders|Apnea|False|Trauma|Mental Health|Psychiatry|Urology|Cardiology|Medicine|Health|Bipolar and Related Disorders|General|Clinical|Myocardial Infarction|Conduct Disorders']\n"
     ]
    }
   ],
   "source": [
    "\n",
    "#predictions=predictions.astype(np.int64)\n",
    "predictions2=label_encoder.inverse_transform(predictions)\n",
    "print(predictions2)"
   ]
  },
  {
   "attachments": {},
   "cell_type": "markdown",
   "id": "19a0101a",
   "metadata": {},
   "source": [
    "Txo Model"
   ]
  },
  {
   "cell_type": "code",
   "execution_count": 16,
   "id": "3454212d",
   "metadata": {},
   "outputs": [],
   "source": [
    "# # creating mask\n",
    "# mask1 = y_train.astype(np.int64)\n",
    "# mask2 = y_test.astype(np.int64)"
   ]
  },
  {
   "cell_type": "code",
   "execution_count": 17,
   "id": "317a6a73",
   "metadata": {},
   "outputs": [],
   "source": [
    "# Extract the features and target arrays from the DataFrames\n",
    "X_train = df_train[txo_features].values\n",
    "y_train = df_train[txo_target].values\n",
    "# print(X_train.shape)\n",
    "\n",
    "X_test = df_test[txo_features].values\n",
    "y_test = df_test[txo_target].values\n",
    "\n",
    "# # mask = predictions == 1\n",
    "# X_train = X_train[mask1]\n",
    "# print(X_train.shape)\n",
    "\n",
    "# y_train = y_train[mask1]\n",
    "# print(y_train)\n",
    "\n",
    "# # mask = predictions == 1\n",
    "# X_test = X_test[mask2]\n",
    "# y_test = y_test[mask2]\n",
    "\n",
    "\n",
    "# y_test = y_test.ravel()"
   ]
  },
  {
   "cell_type": "code",
   "execution_count": 18,
   "id": "e41ab371",
   "metadata": {},
   "outputs": [],
   "source": [
    "# Creating model\n",
    "txo_model = RandomForestClassifier(n_estimators=100)"
   ]
  },
  {
   "cell_type": "code",
   "execution_count": 19,
   "id": "ba5201ae",
   "metadata": {},
   "outputs": [],
   "source": [
    "# impute NaN values\n",
    "# X_train[np.isnan(X_train)] = 0\n",
    "\n",
    "# y_train = pd.Series(y_train)\n",
    "# # Fill missing values in y_train with 0\n",
    "# y_train = y_train.fillna(0)\n",
    "\n",
    "# print(X_train.shape,y_train.shape)\n",
    "# X_train"
   ]
  },
  {
   "cell_type": "code",
   "execution_count": 20,
   "metadata": {},
   "outputs": [
    {
     "data": {
      "text/html": [
       "<style>#sk-container-id-2 {color: black;background-color: white;}#sk-container-id-2 pre{padding: 0;}#sk-container-id-2 div.sk-toggleable {background-color: white;}#sk-container-id-2 label.sk-toggleable__label {cursor: pointer;display: block;width: 100%;margin-bottom: 0;padding: 0.3em;box-sizing: border-box;text-align: center;}#sk-container-id-2 label.sk-toggleable__label-arrow:before {content: \"▸\";float: left;margin-right: 0.25em;color: #696969;}#sk-container-id-2 label.sk-toggleable__label-arrow:hover:before {color: black;}#sk-container-id-2 div.sk-estimator:hover label.sk-toggleable__label-arrow:before {color: black;}#sk-container-id-2 div.sk-toggleable__content {max-height: 0;max-width: 0;overflow: hidden;text-align: left;background-color: #f0f8ff;}#sk-container-id-2 div.sk-toggleable__content pre {margin: 0.2em;color: black;border-radius: 0.25em;background-color: #f0f8ff;}#sk-container-id-2 input.sk-toggleable__control:checked~div.sk-toggleable__content {max-height: 200px;max-width: 100%;overflow: auto;}#sk-container-id-2 input.sk-toggleable__control:checked~label.sk-toggleable__label-arrow:before {content: \"▾\";}#sk-container-id-2 div.sk-estimator input.sk-toggleable__control:checked~label.sk-toggleable__label {background-color: #d4ebff;}#sk-container-id-2 div.sk-label input.sk-toggleable__control:checked~label.sk-toggleable__label {background-color: #d4ebff;}#sk-container-id-2 input.sk-hidden--visually {border: 0;clip: rect(1px 1px 1px 1px);clip: rect(1px, 1px, 1px, 1px);height: 1px;margin: -1px;overflow: hidden;padding: 0;position: absolute;width: 1px;}#sk-container-id-2 div.sk-estimator {font-family: monospace;background-color: #f0f8ff;border: 1px dotted black;border-radius: 0.25em;box-sizing: border-box;margin-bottom: 0.5em;}#sk-container-id-2 div.sk-estimator:hover {background-color: #d4ebff;}#sk-container-id-2 div.sk-parallel-item::after {content: \"\";width: 100%;border-bottom: 1px solid gray;flex-grow: 1;}#sk-container-id-2 div.sk-label:hover label.sk-toggleable__label {background-color: #d4ebff;}#sk-container-id-2 div.sk-serial::before {content: \"\";position: absolute;border-left: 1px solid gray;box-sizing: border-box;top: 0;bottom: 0;left: 50%;z-index: 0;}#sk-container-id-2 div.sk-serial {display: flex;flex-direction: column;align-items: center;background-color: white;padding-right: 0.2em;padding-left: 0.2em;position: relative;}#sk-container-id-2 div.sk-item {position: relative;z-index: 1;}#sk-container-id-2 div.sk-parallel {display: flex;align-items: stretch;justify-content: center;background-color: white;position: relative;}#sk-container-id-2 div.sk-item::before, #sk-container-id-2 div.sk-parallel-item::before {content: \"\";position: absolute;border-left: 1px solid gray;box-sizing: border-box;top: 0;bottom: 0;left: 50%;z-index: -1;}#sk-container-id-2 div.sk-parallel-item {display: flex;flex-direction: column;z-index: 1;position: relative;background-color: white;}#sk-container-id-2 div.sk-parallel-item:first-child::after {align-self: flex-end;width: 50%;}#sk-container-id-2 div.sk-parallel-item:last-child::after {align-self: flex-start;width: 50%;}#sk-container-id-2 div.sk-parallel-item:only-child::after {width: 0;}#sk-container-id-2 div.sk-dashed-wrapped {border: 1px dashed gray;margin: 0 0.4em 0.5em 0.4em;box-sizing: border-box;padding-bottom: 0.4em;background-color: white;}#sk-container-id-2 div.sk-label label {font-family: monospace;font-weight: bold;display: inline-block;line-height: 1.2em;}#sk-container-id-2 div.sk-label-container {text-align: center;}#sk-container-id-2 div.sk-container {/* jupyter's `normalize.less` sets `[hidden] { display: none; }` but bootstrap.min.css set `[hidden] { display: none !important; }` so we also need the `!important` here to be able to override the default hidden behavior on the sphinx rendered scikit-learn.org. See: https://github.com/scikit-learn/scikit-learn/issues/21755 */display: inline-block !important;position: relative;}#sk-container-id-2 div.sk-text-repr-fallback {display: none;}</style><div id=\"sk-container-id-2\" class=\"sk-top-container\"><div class=\"sk-text-repr-fallback\"><pre>RandomForestClassifier()</pre><b>In a Jupyter environment, please rerun this cell to show the HTML representation or trust the notebook. <br />On GitHub, the HTML representation is unable to render, please try loading this page with nbviewer.org.</b></div><div class=\"sk-container\" hidden><div class=\"sk-item\"><div class=\"sk-estimator sk-toggleable\"><input class=\"sk-toggleable__control sk-hidden--visually\" id=\"sk-estimator-id-2\" type=\"checkbox\" checked><label for=\"sk-estimator-id-2\" class=\"sk-toggleable__label sk-toggleable__label-arrow\">RandomForestClassifier</label><div class=\"sk-toggleable__content\"><pre>RandomForestClassifier()</pre></div></div></div></div></div>"
      ],
      "text/plain": [
       "RandomForestClassifier()"
      ]
     },
     "execution_count": 20,
     "metadata": {},
     "output_type": "execute_result"
    }
   ],
   "source": [
    "# Fit model\n",
    "txo_model.fit(X_train,y_train)"
   ]
  },
  {
   "cell_type": "code",
   "execution_count": 52,
   "id": "53aba13f",
   "metadata": {},
   "outputs": [],
   "source": [
    "# Model Evaluation\n",
    "# X_test[np.isnan(X_test)] = 0\n",
    "\n",
    "t_predictions = txo_model.predict(X_test)\n",
    "t_prediction=label_encoder.inverse_transform(t_predictions)"
   ]
  },
  {
   "cell_type": "code",
   "execution_count": 53,
   "id": "bfe869b9",
   "metadata": {},
   "outputs": [
    {
     "name": "stdout",
     "output_type": "stream",
     "text": [
      "['Critical Care|Hemoptysis|Thoracotomy|Small|Chronic|Cardiology|Oncology|Heart Failure|General Practice|Lung Diseases|Biopsy|Dentistry|Technology|Surgical|Neurology|Nuclear Medicine|Pediatrics|Autoimmune|Rehabilitation|Large|Otolaryngology|Physical Medicine & Rehabilitation|Resuscitation|Health|Preventive|Anesthesiology|Dermatology|Gastroenterology|Neurological Surgery|Diabetes Mellitus|Macrophages|Physicians|Diagnosis|Tuberculosis|Ophthalmology|Urology|Medicine|Lung|Cardiac|False|Trauma|Female|Papillary|Oral|Rheumatology|Surgery|Specialties|Transplantation|Intravenous|Orthopedics|Emergency Medicine|Myocardial Infarction|General|Clinical|Pathology|Preventive Medicine|Psychiatry'\n",
      " 'Child|Clinical|Diagnosis|Medicine|Oral|Chronic|Total|Cardiology|Dermatology|Urology|Dermatitis|General|Autoimmune|False'\n",
      " 'Critical Care|Hemoptysis|Thoracotomy|Small|Chronic|Cardiology|Oncology|Heart Failure|General Practice|Lung Diseases|Biopsy|Dentistry|Technology|Surgical|Neurology|Nuclear Medicine|Pediatrics|Autoimmune|Rehabilitation|Large|Otolaryngology|Physical Medicine & Rehabilitation|Resuscitation|Health|Preventive|Anesthesiology|Dermatology|Gastroenterology|Neurological Surgery|Diabetes Mellitus|Macrophages|Physicians|Diagnosis|Tuberculosis|Ophthalmology|Urology|Medicine|Lung|Cardiac|False|Trauma|Female|Papillary|Oral|Rheumatology|Surgery|Specialties|Transplantation|Intravenous|Orthopedics|Emergency Medicine|Myocardial Infarction|General|Clinical|Pathology|Preventive Medicine|Psychiatry'\n",
      " ...\n",
      " 'Critical Care|Hemoptysis|Thoracotomy|Small|Chronic|Cardiology|Oncology|Heart Failure|General Practice|Lung Diseases|Biopsy|Dentistry|Technology|Surgical|Neurology|Nuclear Medicine|Pediatrics|Autoimmune|Rehabilitation|Large|Otolaryngology|Physical Medicine & Rehabilitation|Resuscitation|Health|Preventive|Anesthesiology|Dermatology|Gastroenterology|Neurological Surgery|Diabetes Mellitus|Macrophages|Physicians|Diagnosis|Tuberculosis|Ophthalmology|Urology|Medicine|Lung|Cardiac|False|Trauma|Female|Papillary|Oral|Rheumatology|Surgery|Specialties|Transplantation|Intravenous|Orthopedics|Emergency Medicine|Myocardial Infarction|General|Clinical|Pathology|Preventive Medicine|Psychiatry'\n",
      " 'Asthma|General|Clinical|False|Health|Small|Cardiology|Neurology|Ophthalmology|Orthopedics|Hepatology|Urology|Cardiovascular|Genetic|Trauma|Rheumatology|Tuberculosis|Gastroenterology|Psychiatry|Medicine|Dermatomyositis|Dermatology|Oncology|Arthritis|Diagnosis|Neutrophils|Dermatitis|Biopsy|Infected|Pediatrics|Surgery'\n",
      " 'Critical Care|Hemoptysis|Thoracotomy|Small|Chronic|Cardiology|Oncology|Heart Failure|General Practice|Lung Diseases|Biopsy|Dentistry|Technology|Surgical|Neurology|Nuclear Medicine|Pediatrics|Autoimmune|Rehabilitation|Large|Otolaryngology|Physical Medicine & Rehabilitation|Resuscitation|Health|Preventive|Anesthesiology|Dermatology|Gastroenterology|Neurological Surgery|Diabetes Mellitus|Macrophages|Physicians|Diagnosis|Tuberculosis|Ophthalmology|Urology|Medicine|Lung|Cardiac|False|Trauma|Female|Papillary|Oral|Rheumatology|Surgery|Specialties|Transplantation|Intravenous|Orthopedics|Emergency Medicine|Myocardial Infarction|General|Clinical|Pathology|Preventive Medicine|Psychiatry']\n"
     ]
    }
   ],
   "source": [
    "print(t_prediction)"
   ]
  },
  {
   "cell_type": "code",
   "execution_count": 23,
   "id": "a6b5e8d5",
   "metadata": {},
   "outputs": [
    {
     "name": "stdout",
     "output_type": "stream",
     "text": [
      "\n",
      "TAXONOMY Model Evaluation:\n",
      "Accurcy is : 0.9138105059902576\n"
     ]
    }
   ],
   "source": [
    "# Calculate and print the evaluation metrics 0.5745445036738107 24.9261978021978\n",
    "accuracy = accuracy_score(y_test,t_prediction)\n",
    "\n",
    "print(\"\\nTAXONOMY Model Evaluation:\")\n",
    "print(\"Accurcy is :\", accuracy)"
   ]
  },
  {
   "attachments": {},
   "cell_type": "markdown",
   "id": "a8c5a0d0",
   "metadata": {},
   "source": [
    "Saving the models"
   ]
  },
  {
   "cell_type": "code",
   "execution_count": 24,
   "id": "ff081f10",
   "metadata": {},
   "outputs": [
    {
     "data": {
      "text/plain": [
       "['txo_trained_model.pkl']"
      ]
     },
     "execution_count": 24,
     "metadata": {},
     "output_type": "execute_result"
    }
   ],
   "source": [
    "# Save the trained model\n",
    "joblib.dump(model, 'trained_model.pkl')\n",
    "joblib.dump(txo_model, 'txo_trained_model.pkl')"
   ]
  },
  {
   "attachments": {},
   "cell_type": "markdown",
   "id": "934249b2",
   "metadata": {},
   "source": [
    "Using the models for prediction"
   ]
  },
  {
   "attachments": {},
   "cell_type": "markdown",
   "id": "e085f769",
   "metadata": {},
   "source": [
    "Part-1"
   ]
  },
  {
   "cell_type": "code",
   "execution_count": 25,
   "id": "2e2bb319",
   "metadata": {},
   "outputs": [],
   "source": [
    "## Load the trained model\n",
    "prediction_model = joblib.load('trained_model.pkl')\n",
    "\n",
    "# Load the vaex DataFrame for prediction\n",
    "df_prediction = vaex.open('Doceree-HCP-Test.hdf5')\n",
    "# Iterate over each column in the DataFrame\n",
    "for column in df_prediction.columns:\n",
    "    # Fill missing values with 0 for the current column\n",
    "    df_prediction[column].fillna(0, inplace=True)\n",
    "\n",
    "df_prediction = df_prediction.fillna(0)\n",
    "\n",
    "X_prediction = df_prediction[features].values\n",
    "user_ids = df_prediction['ID'].values\n",
    "\n",
    "# Make predictions\n",
    "predictions = prediction_model.predict(X_prediction)\n",
    "\n",
    "# Apply threshold for classification if needed\n",
    "# threshold = 0.461  //use previous used value of threshold\n",
    "\n",
    "# class_predictions = np.where(predictions >= threshold, 1, 0)\n",
    "IS_HCP = predictions"
   ]
  },
  {
   "attachments": {},
   "cell_type": "markdown",
   "id": "6aeb32af",
   "metadata": {},
   "source": [
    "Part-2"
   ]
  },
  {
   "cell_type": "code",
   "execution_count": 26,
   "id": "7ea4f3bb",
   "metadata": {},
   "outputs": [],
   "source": [
    "# Loading Txo model\n",
    "txo_prediction_model = joblib.load('txo_trained_model.pkl')\n",
    "\n",
    "# Making dataframe for txo model\n",
    "X_prediction = X_prediction[IS_HCP == 1]\n",
    "ids = df_prediction['ID'].values\n",
    "ids = ids[IS_HCP == 1]"
   ]
  },
  {
   "cell_type": "code",
   "execution_count": 27,
   "id": "9280ec86",
   "metadata": {},
   "outputs": [],
   "source": [
    "# X_prediction = df_prediction[txo_features].values"
   ]
  },
  {
   "cell_type": "code",
   "execution_count": 44,
   "id": "0f9052d8",
   "metadata": {},
   "outputs": [],
   "source": [
    "#make prediction\n",
    "prediction = txo_prediction_model.predict(X_prediction)"
   ]
  },
  {
   "cell_type": "code",
   "execution_count": 45,
   "id": "d604275d",
   "metadata": {},
   "outputs": [],
   "source": [
    "# if prediction.dtype == int:\n",
    "prediction = label_encoder.inverse_transform(prediction)"
   ]
  },
  {
   "cell_type": "code",
   "execution_count": 46,
   "id": "a06dec31",
   "metadata": {},
   "outputs": [],
   "source": [
    "zip(X_prediction,prediction)\n",
    "\n",
    "# creating mask\n",
    "mask = np.isin(user_ids,ids)"
   ]
  },
  {
   "cell_type": "code",
   "execution_count": 47,
   "id": "a1864b98",
   "metadata": {},
   "outputs": [],
   "source": [
    "prediction = np.resize(prediction,len(mask))\n"
   ]
  },
  {
   "cell_type": "code",
   "execution_count": 48,
   "id": "9a796fba",
   "metadata": {},
   "outputs": [
    {
     "name": "stdout",
     "output_type": "stream",
     "text": [
      "['Child|Clinical|Diagnosis|Medicine|Oral|Chronic|Total|Cardiology|Dermatology|Urology|Dermatitis|General|Autoimmune|False'\n",
      " 'Critical Care|Hemoptysis|Thoracotomy|Small|Chronic|Cardiology|Oncology|Heart Failure|General Practice|Lung Diseases|Biopsy|Dentistry|Technology|Surgical|Neurology|Nuclear Medicine|Pediatrics|Autoimmune|Rehabilitation|Large|Otolaryngology|Physical Medicine & Rehabilitation|Resuscitation|Health|Preventive|Anesthesiology|Dermatology|Gastroenterology|Neurological Surgery|Diabetes Mellitus|Macrophages|Physicians|Diagnosis|Tuberculosis|Ophthalmology|Urology|Medicine|Lung|Cardiac|False|Trauma|Female|Papillary|Oral|Rheumatology|Surgery|Specialties|Transplantation|Intravenous|Orthopedics|Emergency Medicine|Myocardial Infarction|General|Clinical|Pathology|Preventive Medicine|Psychiatry'\n",
      " 'Critical Care|Hemoptysis|Thoracotomy|Small|Chronic|Cardiology|Oncology|Heart Failure|General Practice|Lung Diseases|Biopsy|Dentistry|Technology|Surgical|Neurology|Nuclear Medicine|Pediatrics|Autoimmune|Rehabilitation|Large|Otolaryngology|Physical Medicine & Rehabilitation|Resuscitation|Health|Preventive|Anesthesiology|Dermatology|Gastroenterology|Neurological Surgery|Diabetes Mellitus|Macrophages|Physicians|Diagnosis|Tuberculosis|Ophthalmology|Urology|Medicine|Lung|Cardiac|False|Trauma|Female|Papillary|Oral|Rheumatology|Surgery|Specialties|Transplantation|Intravenous|Orthopedics|Emergency Medicine|Myocardial Infarction|General|Clinical|Pathology|Preventive Medicine|Psychiatry'\n",
      " ...\n",
      " 'Critical Care|Hemoptysis|Thoracotomy|Small|Chronic|Cardiology|Oncology|Heart Failure|General Practice|Lung Diseases|Biopsy|Dentistry|Technology|Surgical|Neurology|Nuclear Medicine|Pediatrics|Autoimmune|Rehabilitation|Large|Otolaryngology|Physical Medicine & Rehabilitation|Resuscitation|Health|Preventive|Anesthesiology|Dermatology|Gastroenterology|Neurological Surgery|Diabetes Mellitus|Macrophages|Physicians|Diagnosis|Tuberculosis|Ophthalmology|Urology|Medicine|Lung|Cardiac|False|Trauma|Female|Papillary|Oral|Rheumatology|Surgery|Specialties|Transplantation|Intravenous|Orthopedics|Emergency Medicine|Myocardial Infarction|General|Clinical|Pathology|Preventive Medicine|Psychiatry'\n",
      " 'Critical Care|Hemoptysis|Thoracotomy|Small|Chronic|Cardiology|Oncology|Heart Failure|General Practice|Lung Diseases|Biopsy|Dentistry|Technology|Surgical|Neurology|Nuclear Medicine|Pediatrics|Autoimmune|Rehabilitation|Large|Otolaryngology|Physical Medicine & Rehabilitation|Resuscitation|Health|Preventive|Anesthesiology|Dermatology|Gastroenterology|Neurological Surgery|Diabetes Mellitus|Macrophages|Physicians|Diagnosis|Tuberculosis|Ophthalmology|Urology|Medicine|Lung|Cardiac|False|Trauma|Female|Papillary|Oral|Rheumatology|Surgery|Specialties|Transplantation|Intravenous|Orthopedics|Emergency Medicine|Myocardial Infarction|General|Clinical|Pathology|Preventive Medicine|Psychiatry'\n",
      " 'Critical Care|Hemoptysis|Thoracotomy|Small|Chronic|Cardiology|Oncology|Heart Failure|General Practice|Lung Diseases|Biopsy|Dentistry|Technology|Surgical|Neurology|Nuclear Medicine|Pediatrics|Autoimmune|Rehabilitation|Large|Otolaryngology|Physical Medicine & Rehabilitation|Resuscitation|Health|Preventive|Anesthesiology|Dermatology|Gastroenterology|Neurological Surgery|Diabetes Mellitus|Macrophages|Physicians|Diagnosis|Tuberculosis|Ophthalmology|Urology|Medicine|Lung|Cardiac|False|Trauma|Female|Papillary|Oral|Rheumatology|Surgery|Specialties|Transplantation|Intravenous|Orthopedics|Emergency Medicine|Myocardial Infarction|General|Clinical|Pathology|Preventive Medicine|Psychiatry']\n"
     ]
    }
   ],
   "source": [
    "print(prediction)"
   ]
  },
  {
   "cell_type": "code",
   "execution_count": 49,
   "id": "b6fa0db7",
   "metadata": {},
   "outputs": [],
   "source": [
    "txo_prediction = np.where(mask, prediction,\"\")\n",
    "\n",
    "# print(user_ids.shape,txo_prediction.shape,IS_HCP.shape)"
   ]
  },
  {
   "cell_type": "code",
   "execution_count": 51,
   "id": "f3e31d55",
   "metadata": {},
   "outputs": [],
   "source": [
    "# Create a DataFrame with the user IDs (userplatformuid) and the predicted HCP values and taxonomy predictions\n",
    "\n",
    "predictions = pd.DataFrame({'ID': user_ids,'taxonomy': txo_prediction, 'IS_HCP': IS_HCP})\n",
    "\n",
    "# Save the DataFrame to an Excel file\n",
    "predictions.to_excel('predictions.xlsx', index=False)"
   ]
  }
 ],
 "metadata": {
  "kernelspec": {
   "display_name": "Python 3 (ipykernel)",
   "language": "python",
   "name": "python3"
  },
  "language_info": {
   "codemirror_mode": {
    "name": "ipython",
    "version": 3
   },
   "file_extension": ".py",
   "mimetype": "text/x-python",
   "name": "python",
   "nbconvert_exporter": "python",
   "pygments_lexer": "ipython3",
   "version": "3.9.16"
  }
 },
 "nbformat": 4,
 "nbformat_minor": 5
}
