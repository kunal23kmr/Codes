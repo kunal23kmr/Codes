{
 "cells": [
  {
   "attachments": {},
   "cell_type": "markdown",
   "metadata": {},
   "source": [
    "Importing library"
   ]
  },
  {
   "cell_type": "code",
   "execution_count": 1,
   "metadata": {},
   "outputs": [],
   "source": [
    "import pandas as pd\n",
    "import numpy as np\n",
    "import vaex\n",
    "from sklearn.ensemble import RandomForestClassifier\n",
    "from sklearn.metrics import accuracy_score\n",
    "from sklearn.preprocessing import MultiLabelBinarizer,OneHotEncoder\n",
    "from sklearn.model_selection import train_test_split"
   ]
  },
  {
   "cell_type": "code",
   "execution_count": 2,
   "metadata": {},
   "outputs": [],
   "source": [
    "data =pd.read_csv('Doceree-HCP_Train.csv', encoding='latin-1')\n",
    "test =pd.read_csv('Doceree-HCP-Test.csv', encoding='latin-1')"
   ]
  },
  {
   "cell_type": "code",
   "execution_count": 3,
   "metadata": {},
   "outputs": [
    {
     "data": {
      "text/plain": [
       "ID                   int64\n",
       "DEVICETYPE          object\n",
       "PLATFORM_ID          int64\n",
       "BIDREQUESTIP        object\n",
       "USERPLATFORMUID     object\n",
       "USERCITY            object\n",
       "USERZIPCODE        float64\n",
       "USERAGENT           object\n",
       "PLATFORMTYPE        object\n",
       "CHANNELTYPE         object\n",
       "URL                 object\n",
       "KEYWORDS            object\n",
       "TAXONOMY            object\n",
       "IS_HCP             float64\n",
       "dtype: object"
      ]
     },
     "execution_count": 3,
     "metadata": {},
     "output_type": "execute_result"
    }
   ],
   "source": [
    "data.dtypes"
   ]
  },
  {
   "cell_type": "code",
   "execution_count": 4,
   "metadata": {},
   "outputs": [
    {
     "name": "stdout",
     "output_type": "stream",
     "text": [
      "0    General|Endocrine|False|Medicine|Surgery|Urolo...\n",
      "1    Bone Marrow|Radiography|Chronic|Oncology|Psych...\n",
      "2    General|Endocrine|False|Medicine|Surgery|Urolo...\n",
      "3    Dental|Total|Clinical|Pharmacology|Physicians|...\n",
      "4    Critical Care|Emergency Medicine|General Pract...\n",
      "Name: KEYWORDS, dtype: object\n",
      "0    [General, Endocrine, False, Medicine, Surgery,...\n",
      "1    [Bone Marrow, Radiography, Chronic, Oncology, ...\n",
      "2    [General, Endocrine, False, Medicine, Surgery,...\n",
      "3    [Dental, Total, Clinical, Pharmacology, Physic...\n",
      "4    [Critical Care, Emergency Medicine, General Pr...\n",
      "Name: KEYWORDS, dtype: object\n"
     ]
    }
   ],
   "source": [
    "print(data['KEYWORDS'].head())\n",
    "data['KEYWORDS'] = data['KEYWORDS'].str.split('|')\n",
    "print(data['KEYWORDS'].head())"
   ]
  },
  {
   "cell_type": "code",
   "execution_count": 50,
   "metadata": {},
   "outputs": [
    {
     "data": {
      "text/plain": [
       "['Bone Marrow',\n",
       " 'Radiography',\n",
       " 'Chronic',\n",
       " 'Oncology',\n",
       " 'Psychiatry',\n",
       " 'Intestine',\n",
       " 'Small Intestines',\n",
       " 'Physicians',\n",
       " 'Gastroenterology',\n",
       " 'Salivary Glands',\n",
       " 'Autoimmune',\n",
       " 'Hemolytic',\n",
       " 'False',\n",
       " 'Hereditary',\n",
       " 'Total',\n",
       " 'Cardiology',\n",
       " 'Surgery',\n",
       " 'Clinical',\n",
       " 'Dendritic Cells',\n",
       " 'Lung',\n",
       " 'Biopsy',\n",
       " 'General',\n",
       " 'Large',\n",
       " 'Small',\n",
       " 'Ophthalmology',\n",
       " 'Medicine',\n",
       " 'Lymphoid Tissue',\n",
       " 'Rheumatology',\n",
       " 'B-Lymphocytes',\n",
       " 'Stomach',\n",
       " 'Transplantation',\n",
       " 'Gastrointestinal Tract',\n",
       " 'Intestines',\n",
       " 'Diagnosis',\n",
       " 'Endocrine',\n",
       " 'Anemia',\n",
       " 'Refractory',\n",
       " 'Dermatology',\n",
       " 'Neurology',\n",
       " 'Urology']"
      ]
     },
     "execution_count": 50,
     "metadata": {},
     "output_type": "execute_result"
    }
   ],
   "source": [
    "data[\"KEYWORDS\"][1]"
   ]
  },
  {
   "cell_type": "code",
   "execution_count": null,
   "metadata": {},
   "outputs": [],
   "source": [
    "usefull_features = ['DEVICETYPE', 'PLATFORM_ID', 'USERPLATFORMUID', 'USERCITY', 'USERZIPCODE', 'PLATFORMTYPE', 'CHANNELTYPE', 'URL', 'KEYWORDS']"
   ]
  },
  {
   "cell_type": "code",
   "execution_count": null,
   "metadata": {},
   "outputs": [],
   "source": [
    "# features=['DEVICETYPE', 'PLATFORM_ID', 'BIDREQUESTIP', 'USERPLATFORMUID', 'USERCITY', 'USERZIPCODE', 'USERAGENT', 'PLATFORMTYPE', 'CHANNELTYPE', 'URL', 'KEYWORDS']\n",
    "target='IS_HCP'\n",
    "# txo_features = ['DEVICETYPE', 'PLATFORM_ID', 'BIDREQUESTIP', 'USERPLATFORMUID', 'USERCITY', 'USERZIPCODE', 'USERAGENT', 'PLATFORMTYPE', 'CHANNELTYPE', 'URL', 'KEYWORDS']\n",
    "txo_target='TAXONOMY'"
   ]
  },
  {
   "cell_type": "code",
   "execution_count": null,
   "metadata": {},
   "outputs": [],
   "source": [
    "X = data[usefull_features]\n",
    "Y = data[target]"
   ]
  },
  {
   "cell_type": "code",
   "execution_count": null,
   "metadata": {},
   "outputs": [],
   "source": []
  },
  {
   "cell_type": "code",
   "execution_count": null,
   "metadata": {},
   "outputs": [],
   "source": [
    "x_train , x_test , y_train , y_test = train_test_split(X , Y, test_size=0.2, random_state=42)"
   ]
  },
  {
   "cell_type": "code",
   "execution_count": null,
   "metadata": {},
   "outputs": [],
   "source": [
    "mlb = MultiLabelBinarizer()"
   ]
  },
  {
   "cell_type": "code",
   "execution_count": null,
   "metadata": {},
   "outputs": [],
   "source": [
    "# x_train_encoded = ordinal_encoder.fit_transform(x_train)\n",
    "# x_test_encoded = ordinal_encoder.fit_transform(x_test)"
   ]
  },
  {
   "cell_type": "code",
   "execution_count": null,
   "metadata": {},
   "outputs": [],
   "source": []
  }
 ],
 "metadata": {
  "kernelspec": {
   "display_name": "base",
   "language": "python",
   "name": "python3"
  },
  "language_info": {
   "codemirror_mode": {
    "name": "ipython",
    "version": 3
   },
   "file_extension": ".py",
   "mimetype": "text/x-python",
   "name": "python",
   "nbconvert_exporter": "python",
   "pygments_lexer": "ipython3",
   "version": "3.9.16"
  },
  "orig_nbformat": 4
 },
 "nbformat": 4,
 "nbformat_minor": 2
}
